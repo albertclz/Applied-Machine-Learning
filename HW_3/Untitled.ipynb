{
 "cells": [
  {
   "cell_type": "code",
   "execution_count": 1,
   "metadata": {},
   "outputs": [],
   "source": [
    "import numpy as np\n",
    "import scipy.io\n",
    "\n",
    "#####load data\n",
    "data = scipy.io.loadmat('/Users/albertzhang/Desktop/18spring/ML/HW/HW3/hw3data.mat')\n",
    "\n",
    "def standardization(X):    \n",
    "    X_scaled = np.zeros(X.shape)\n",
    "    for i in range(X.shape[1]):\n",
    "        mean = np.mean(X[:,i])\n",
    "        std = np.std(X[:,i])\n",
    "        for j in range(X.shape[0]):\n",
    "            X_scaled[j,i] = (X[j,i]-mean)/std\n",
    "    \n",
    "    return X_scaled \n",
    "\n",
    "X = data['data']\n",
    "X_scaled = standardization(X)   \n",
    "y = np.int64(data['labels'])\n",
    "y[y == 0] = -1\n",
    "\n",
    "\n",
    "#### based on Problem4(b)          \n",
    "n = len(y)\n",
    "C = 10 / n \n",
    "alpha = np.zeros((n, 1))\n",
    "Kernel = np.matmul(X_scaled, X_scaled.transpose())\n",
    "for t in range(2):\n",
    "    for i in range(n):\n",
    "        a = 2 * y[i] * y[i] * Kernel[i, i]\n",
    "        b = 1 - 2 * y[i] * (np.matmul(Kernel[i, :], np.multiply(alpha, y)) - Kernel[i, i] * alpha[i] * y[i])\n",
    "        if C <= b / a:\n",
    "            alpha[i] = C\n",
    "        elif 0 >= b / a:\n",
    "            alpha[i] = 0\n",
    "        else:\n",
    "            alpha[i] = b / a\n",
    "value = np.sum(alpha) - sum(sum(np.multiply(np.matmul(np.multiply(y, alpha), np.multiply(y, alpha).transpose()),np.matmul(X_scaled, X_scaled.transpose()))))\n",
    "weight = np.sum(np.multiply(np.multiply(y, alpha), X_scaled), axis = 0)"
   ]
  },
  {
   "cell_type": "code",
   "execution_count": 2,
   "metadata": {},
   "outputs": [
    {
     "data": {
      "text/plain": [
       "8.200524349283208"
      ]
     },
     "execution_count": 2,
     "metadata": {},
     "output_type": "execute_result"
    }
   ],
   "source": [
    "value"
   ]
  },
  {
   "cell_type": "code",
   "execution_count": 3,
   "metadata": {},
   "outputs": [
    {
     "data": {
      "text/plain": [
       "array([ 0.01719255,  0.38280392, -0.04976723])"
      ]
     },
     "execution_count": 3,
     "metadata": {},
     "output_type": "execute_result"
    }
   ],
   "source": [
    "weight"
   ]
  },
  {
   "cell_type": "code",
   "execution_count": null,
   "metadata": {},
   "outputs": [],
   "source": []
  }
 ],
 "metadata": {
  "kernelspec": {
   "display_name": "Python 3",
   "language": "python",
   "name": "python3"
  },
  "language_info": {
   "codemirror_mode": {
    "name": "ipython",
    "version": 3
   },
   "file_extension": ".py",
   "mimetype": "text/x-python",
   "name": "python",
   "nbconvert_exporter": "python",
   "pygments_lexer": "ipython3",
   "version": "3.5.4"
  }
 },
 "nbformat": 4,
 "nbformat_minor": 2
}
