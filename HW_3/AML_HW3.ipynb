{
 "cells": [
  {
   "cell_type": "code",
   "execution_count": 1,
   "metadata": {},
   "outputs": [],
   "source": [
    "from sklearn.datasets import fetch_california_housing\n",
    "from sklearn.model_selection import train_test_split,cross_val_score,GridSearchCV\n",
    "from sklearn.linear_model import LinearRegression, Ridge, Lasso, ElasticNet, RidgeCV\n",
    "from sklearn.preprocessing import StandardScaler,PolynomialFeatures, scale, OneHotEncoder\n",
    "from sklearn.feature_selection import SelectKBest, SelectPercentile, SelectFpr, f_regression,\\\n",
    "mutual_info_regression, SelectFromModel\n",
    "from sklearn.pipeline import make_pipeline\n",
    "from pandas.api.types import is_string_dtype\n",
    "from pandas.api.types import is_numeric_dtype\n",
    "import matplotlib.pyplot as plt \n",
    "import pandas as pd\n",
    "import numpy as np\n",
    "import seaborn as sns "
   ]
  },
  {
   "cell_type": "markdown",
   "metadata": {},
   "source": [
    "# Task 1: Linear Models"
   ]
  },
  {
   "cell_type": "markdown",
   "metadata": {},
   "source": [
    "## Preprocessing"
   ]
  },
  {
   "cell_type": "code",
   "execution_count": 2,
   "metadata": {},
   "outputs": [],
   "source": [
    "filepath1 = \"/Users/zhaotangyao/Downloads/AML_COMS4995_3/COMS_W4995_AML_Hw/HW3/2015 FE Guide-for DOE-Mobility Ventures only-OK to release-no-sales-4-27-2017Mercedesforpublic.xlsx\"\n",
    "filepath2 = \"/Users/zhaotangyao/Downloads/AML_COMS4995_3/COMS_W4995_AML_Hw/HW3/2016 FE Guide for DOE-OK to release-no-sales-4-27-2017Mercedesforpublic.xlsx\"\n",
    "filepath3 = \"/Users/zhaotangyao/Downloads/AML_COMS4995_3/COMS_W4995_AML_Hw/HW3/2017 FE Guide for DOE-release dates before 9-20-2017-no sales-9-19-2017MercedesCadillacforpublic.xlsx\"\n",
    "filepath4 = \"/Users/zhaotangyao/Downloads/AML_COMS4995_3/COMS_W4995_AML_Hw/HW3/2018 FE Guide for DOE-release dates before 2-17-2018-no-sales-2-15-2018public.xlsx\"\n",
    "df1 = pd.read_excel(filepath1)\n",
    "df2 = pd.read_excel(filepath2)\n",
    "df3 = pd.read_excel(filepath3)\n",
    "df4 = pd.read_excel(filepath4)"
   ]
  },
  {
   "cell_type": "code",
   "execution_count": 3,
   "metadata": {
    "collapsed": true
   },
   "outputs": [],
   "source": [
    "def column_index(df, query_cols):\n",
    "    cols = df.columns.values\n",
    "    sidx = np.argsort(cols)\n",
    "    return sidx[np.searchsorted(cols,query_cols,sorter=sidx)]"
   ]
  },
  {
   "cell_type": "code",
   "execution_count": 4,
   "metadata": {
    "collapsed": true
   },
   "outputs": [],
   "source": [
    "def get_percentage_missing(series):\n",
    "    \"\"\" Calculates percentage of NaN values in DataFrame\n",
    "    :param series: Pandas DataFrame object\n",
    "    :return: float\n",
    "    \"\"\"\n",
    "    num = series.isnull().sum()\n",
    "    den = len(series)\n",
    "    return round(num/den, 2)"
   ]
  },
  {
   "cell_type": "code",
   "execution_count": 5,
   "metadata": {},
   "outputs": [],
   "source": [
    "def preprocess(df):\n",
    "    \n",
    "    df_with_any_null_values = df[df.columns[df.isnull().any()].tolist()]\n",
    "    percentage = get_percentage_missing(df_with_any_null_values)\n",
    "    for name, values in df_with_any_null_values.iteritems():\n",
    "        if get_percentage_missing(df_with_any_null_values[name]) >= 0.9 :\n",
    "            df.drop(name, axis=1, inplace=True)\n",
    "    sub = ['EPA','CO2','Smog','Guzzler','FE','MPG','GHG','Cost','Rating','Range']\n",
    "    for s in sub:\n",
    "        for i in list(df):\n",
    "            if i.find(s) != -1:\n",
    "                del df[i]\n",
    "    del df['Release Date']\n",
    "    del df['Model Year']\n",
    "    #replace yes and no with 1 and 0\n",
    "    df = df.replace('Y',1)\n",
    "    df = df.replace('N',0)\n",
    "    df = df.replace('Yes',1)\n",
    "    df=  df.replace('No',0)\n",
    "    for y in df.columns:\n",
    "        if (is_numeric_dtype(df[y])):\n",
    "            df[y] = df[y].fillna(value=np.mean(df[y]))\n",
    "            if np.sum(df[y]) == 0:\n",
    "                del df[y]\n",
    "        else:\n",
    "            del df[y] #del non numerical data\n",
    "    return df"
   ]
  },
  {
   "cell_type": "code",
   "execution_count": 6,
   "metadata": {},
   "outputs": [
    {
     "data": {
      "text/plain": [
       "(3701, 161)"
      ]
     },
     "execution_count": 6,
     "metadata": {},
     "output_type": "execute_result"
    }
   ],
   "source": [
    "data = pd.concat([df1, df2, df3], axis=0, join = 'inner')\n",
    "data = df1.append([df2,df3],ignore_index=True)\n",
    "X_train = data.drop('Comb Unrd Adj FE - Conventional Fuel', axis = 1)\n",
    "y_train = data['Comb Unrd Adj FE - Conventional Fuel']\n",
    "X_test = df4.drop('Comb Unrd Adj FE - Conventional Fuel', axis = 1)\n",
    "y_test = df4['Comb Unrd Adj FE - Conventional Fuel']\n",
    "X_train.shape"
   ]
  },
  {
   "cell_type": "code",
   "execution_count": 7,
   "metadata": {},
   "outputs": [
    {
     "name": "stdout",
     "output_type": "stream",
     "text": [
      "(3701, 23)\n"
     ]
    }
   ],
   "source": [
    "X_train = preprocess(X_train)\n",
    "#X_train = pd.get_dummies(X_train)\n",
    "print(X_train.shape)"
   ]
  },
  {
   "cell_type": "code",
   "execution_count": 8,
   "metadata": {},
   "outputs": [
    {
     "name": "stdout",
     "output_type": "stream",
     "text": [
      "(1220, 23)\n"
     ]
    }
   ],
   "source": [
    "X_test = preprocess(X_test)\n",
    "#X_test= pd.get_dummies(X_test)\n",
    "print(X_test.shape)"
   ]
  },
  {
   "cell_type": "code",
   "execution_count": 9,
   "metadata": {},
   "outputs": [],
   "source": [
    "def intersect(a, b):\n",
    "     return list(set(a) & set(b))"
   ]
  },
  {
   "cell_type": "code",
   "execution_count": 10,
   "metadata": {
    "collapsed": true
   },
   "outputs": [],
   "source": [
    "def common_features(df,lst):\n",
    "    for i in df:\n",
    "        if not(i in lst):\n",
    "            del df[i]\n",
    "    return df"
   ]
  },
  {
   "cell_type": "code",
   "execution_count": 11,
   "metadata": {},
   "outputs": [
    {
     "name": "stdout",
     "output_type": "stream",
     "text": [
      "23\n"
     ]
    }
   ],
   "source": [
    "b1 = list(X_train)\n",
    "b2 = list(X_test)\n",
    "common = intersect(b1, b2)\n",
    "X_train = common_features(X_train,common)\n",
    "X_test= common_features(X_test,common)\n",
    "print(len(common))"
   ]
  },
  {
   "cell_type": "code",
   "execution_count": 46,
   "metadata": {},
   "outputs": [],
   "source": [
    "#del X_train['Drive Sys_4']\n",
    "#del X_test['Drive Sys_4']"
   ]
  },
  {
   "cell_type": "code",
   "execution_count": 12,
   "metadata": {},
   "outputs": [
    {
     "name": "stdout",
     "output_type": "stream",
     "text": [
      "(3701, 23)\n",
      "(1220, 23)\n"
     ]
    }
   ],
   "source": [
    "print(X_train.shape)\n",
    "print(X_test.shape)"
   ]
  },
  {
   "cell_type": "markdown",
   "metadata": {},
   "source": [
    "## Linear models and Visualization"
   ]
  },
  {
   "cell_type": "markdown",
   "metadata": {},
   "source": [
    "### Model 1: Linear Regression"
   ]
  },
  {
   "cell_type": "code",
   "execution_count": 13,
   "metadata": {},
   "outputs": [
    {
     "name": "stdout",
     "output_type": "stream",
     "text": [
      "Linear Regression score: 0.723553\n"
     ]
    }
   ],
   "source": [
    "print(\"Linear Regression score: {:.6f}\".format(\n",
    "    np.mean(cross_val_score(LinearRegression(), X_train, y_train, cv =10))))"
   ]
  },
  {
   "cell_type": "markdown",
   "metadata": {},
   "source": [
    "#### With Standard Scaler"
   ]
  },
  {
   "cell_type": "code",
   "execution_count": 14,
   "metadata": {
    "collapsed": true
   },
   "outputs": [],
   "source": [
    "scaler = StandardScaler()\n",
    "scaler.fit(X_train)\n",
    "X_train_scaled = scaler.transform(X_train)"
   ]
  },
  {
   "cell_type": "code",
   "execution_count": 15,
   "metadata": {},
   "outputs": [
    {
     "name": "stdout",
     "output_type": "stream",
     "text": [
      "Linear Regression cv score: 0.723553\n"
     ]
    }
   ],
   "source": [
    "LR = LinearRegression().fit(X_train_scaled, y_train)\n",
    "print(\"Linear Regression cv score: {:.6f}\".format(\n",
    "    np.mean(cross_val_score(LR, X_train_scaled, y_train, cv =10))))"
   ]
  },
  {
   "cell_type": "code",
   "execution_count": 16,
   "metadata": {},
   "outputs": [],
   "source": [
    "scaler = StandardScaler()\n",
    "scaler.fit(X_test)\n",
    "X_test_scaled = scaler.transform(X_test)"
   ]
  },
  {
   "cell_type": "code",
   "execution_count": 17,
   "metadata": {},
   "outputs": [
    {
     "name": "stdout",
     "output_type": "stream",
     "text": [
      "Linear Regression cv test score: 0.717659\n"
     ]
    }
   ],
   "source": [
    "print(\"Linear Regression cv test score: {:.6f}\".format(\n",
    "    LR.score(X_test_scaled,y_test)))"
   ]
  },
  {
   "cell_type": "markdown",
   "metadata": {},
   "source": [
    "### Model 2: Ridge (Warning: require modification)"
   ]
  },
  {
   "cell_type": "code",
   "execution_count": 18,
   "metadata": {},
   "outputs": [
    {
     "name": "stdout",
     "output_type": "stream",
     "text": [
      "Ridge score: 0.761463\n"
     ]
    }
   ],
   "source": [
    "print(\"Ridge score: {:.6f}\".format(\n",
    "    np.mean(cross_val_score(Ridge(), X_train, y_train))))"
   ]
  },
  {
   "cell_type": "code",
   "execution_count": 19,
   "metadata": {},
   "outputs": [
    {
     "name": "stdout",
     "output_type": "stream",
     "text": [
      "Ridge best parameter: 10.0\n",
      "Ridge best score: 0.762176\n"
     ]
    }
   ],
   "source": [
    "rgparam_grid= {'alpha': np.logspace(-3, 3, 13)}\n",
    "rg_grid = GridSearchCV(Ridge(), rgparam_grid)\n",
    "rg_grid.fit(X_train,y_train)\n",
    "print(\"Ridge best parameter: {}\".format(rg_grid.best_params_['alpha']))\n",
    "print(\"Ridge best score: {:.6f}\".format(rg_grid.best_score_))"
   ]
  },
  {
   "cell_type": "markdown",
   "metadata": {},
   "source": [
    "#### With Standard Scaler "
   ]
  },
  {
   "cell_type": "code",
   "execution_count": 20,
   "metadata": {},
   "outputs": [
    {
     "name": "stdout",
     "output_type": "stream",
     "text": [
      "Ridge cv score: 0.760889\n"
     ]
    }
   ],
   "source": [
    "RG = Ridge().fit(X_train_scaled, y_train)\n",
    "print(\"Ridge cv score: {:.6f}\".format(\n",
    "    np.mean(cross_val_score(RG, X_train_scaled, y_train))))"
   ]
  },
  {
   "cell_type": "code",
   "execution_count": 21,
   "metadata": {},
   "outputs": [
    {
     "name": "stdout",
     "output_type": "stream",
     "text": [
      "After StandardScaler:\n",
      "Ridge best parameter: {'ridge__alpha': 31.622776601683793}\n",
      "Ridge grid search score: 0.778264\n"
     ]
    }
   ],
   "source": [
    "rg_pipe = make_pipeline(StandardScaler(), Ridge())\n",
    "rgparam_grid1 = {'ridge__alpha': np.logspace(-3, 3, 13)}\n",
    "rg_grid1 = GridSearchCV(rg_pipe, rgparam_grid1, cv = 10).fit(X_train, y_train)\n",
    "print(\"After StandardScaler:\")\n",
    "print(\"Ridge best parameter: {}\".format(rg_grid1.best_params_))\n",
    "print(\"Ridge grid search score: {:.6f}\".format(rg_grid1.score(X_train, y_train)))"
   ]
  },
  {
   "cell_type": "code",
   "execution_count": 22,
   "metadata": {},
   "outputs": [
    {
     "name": "stdout",
     "output_type": "stream",
     "text": [
      "Ridge grid search test score: 0.681358\n"
     ]
    }
   ],
   "source": [
    "print(\"Ridge grid search test score: {:.6f}\".format(rg_grid1.score(X_test, y_test))) \n",
    "#should try to find some way to improve score for grid "
   ]
  },
  {
   "cell_type": "code",
   "execution_count": 24,
   "metadata": {},
   "outputs": [
    {
     "name": "stdout",
     "output_type": "stream",
     "text": [
      "Ridge cv test score: 0.717669\n"
     ]
    }
   ],
   "source": [
    "print(\"Ridge cv test score: {:.6f}\".format(RG.score(X_test_scaled, y_test))) "
   ]
  },
  {
   "cell_type": "markdown",
   "metadata": {},
   "source": [
    "#### Visualization"
   ]
  },
  {
   "cell_type": "code",
   "execution_count": 25,
   "metadata": {},
   "outputs": [
    {
     "data": {
      "image/png": "[encoded data removed]",
      "text/plain": [
       "<matplotlib.figure.Figure at 0x118f834a8>"
      ]
     },
     "metadata": {},
     "output_type": "display_data"
    }
   ],
   "source": [
    "alpha = rgparam_grid['alpha']\n",
    "rg_score = rg_grid1.cv_results_['mean_test_score'].reshape((1,len(alpha)))\n",
    "for ind, i in enumerate(rg_score):\n",
    "    plt.xscale('log')\n",
    "    plt.plot(alpha, rg_score[ind],\"o-\",color='r')\n",
    "    plt.xlabel('alpha')\n",
    "    plt.ylabel('ridge validation score') \n",
    "    plt.title(\"Ridge Model\")\n",
    "    plt.fill_between(alpha,rg_grid1.cv_results_['mean_test_score']\n",
    "                     +rg_grid1.cv_results_['std_test_score'],\n",
    "                     rg_grid1.cv_results_['mean_test_score']-\n",
    "                     rg_grid1.cv_results_['std_test_score'], \n",
    "                     facecolor = 'r', alpha=0.1)\n",
    "plt.show()"
   ]
  },
  {
   "cell_type": "markdown",
   "metadata": {},
   "source": [
    "### Model 3: Lasso"
   ]
  },
  {
   "cell_type": "code",
   "execution_count": 26,
   "metadata": {},
   "outputs": [
    {
     "name": "stdout",
     "output_type": "stream",
     "text": [
      "Lasso cv score: 0.709861\n"
     ]
    }
   ],
   "source": [
    "print(\"Lasso cv score: {:.6f}\".format(\n",
    "    np.mean(cross_val_score(Lasso(tol = 0.1),X_train,y_train))))"
   ]
  },
  {
   "cell_type": "code",
   "execution_count": 27,
   "metadata": {},
   "outputs": [
    {
     "name": "stdout",
     "output_type": "stream",
     "text": [
      "Lasso best parameter : 0.0017782794100389228\n",
      "Lasso grid search best score: 0.762019\n"
     ]
    }
   ],
   "source": [
    "laparam_grid = {'alpha': np.logspace(-3, 0, 13)}\n",
    "la_grid = GridSearchCV(Lasso(tol=0.1), laparam_grid)\n",
    "la_grid.fit(X_train, y_train)\n",
    "print(\"Lasso best parameter : {}\".format(la_grid.best_params_['alpha']))\n",
    "print(\"Lasso grid search best score: {:.6f}\".format(la_grid.best_score_))"
   ]
  },
  {
   "cell_type": "markdown",
   "metadata": {},
   "source": [
    "#### With Standard Scaler"
   ]
  },
  {
   "cell_type": "code",
   "execution_count": 28,
   "metadata": {},
   "outputs": [
    {
     "name": "stdout",
     "output_type": "stream",
     "text": [
      "Lasso cv score: 0.628991\n"
     ]
    }
   ],
   "source": [
    "LA = Lasso(tol = 0.1).fit(X_train_scaled, y_train)\n",
    "print(\"Lasso cv score: {:.6f}\".format(\n",
    "    np.mean(cross_val_score(LA, X_train_scaled, y_train))))"
   ]
  },
  {
   "cell_type": "code",
   "execution_count": 29,
   "metadata": {},
   "outputs": [
    {
     "name": "stdout",
     "output_type": "stream",
     "text": [
      "Lasso best parameter: {'lasso__alpha': 0.001}\n",
      "Lasso grid search score: 0.778077\n"
     ]
    }
   ],
   "source": [
    "la_pipe = make_pipeline(StandardScaler(), Lasso(tol=0.1))\n",
    "laparam_grid1 = {'lasso__alpha': np.logspace(-3, 0, 13)}\n",
    "la_grid1 = GridSearchCV(la_pipe, laparam_grid1, cv = 10).fit(X_train, y_train)\n",
    "print(\"Lasso best parameter: {}\".format(la_grid1.best_params_))\n",
    "print(\"Lasso grid search score: {:.6f}\".format(la_grid1.score(X_train, y_train)))"
   ]
  },
  {
   "cell_type": "code",
   "execution_count": 30,
   "metadata": {},
   "outputs": [
    {
     "name": "stdout",
     "output_type": "stream",
     "text": [
      "Lasso cv test score: 0.614798\n"
     ]
    }
   ],
   "source": [
    "print(\"Lasso cv test score: {:.6f}\".format(LA.score(X_test_scaled, y_test)))"
   ]
  },
  {
   "cell_type": "code",
   "execution_count": 31,
   "metadata": {},
   "outputs": [
    {
     "name": "stdout",
     "output_type": "stream",
     "text": [
      "Lasso grid search test score: 0.682712\n"
     ]
    }
   ],
   "source": [
    "print(\"Lasso grid search test score: {:.6f}\".format(la_grid1.score(X_test, y_test)))"
   ]
  },
  {
   "cell_type": "code",
   "execution_count": 32,
   "metadata": {},
   "outputs": [],
   "source": [
    "#la_pipe.get_params().keys()\n",
    "#la_grid1.cv_results_"
   ]
  },
  {
   "cell_type": "markdown",
   "metadata": {},
   "source": [
    "#### Visualization"
   ]
  },
  {
   "cell_type": "code",
   "execution_count": 33,
   "metadata": {},
   "outputs": [
    {
     "data": {
      "image/png": "[encoded data removed]",
      "text/plain": [
       "<matplotlib.figure.Figure at 0x11c04dfd0>"
      ]
     },
     "metadata": {},
     "output_type": "display_data"
    }
   ],
   "source": [
    "alpha = laparam_grid['alpha']\n",
    "la_score = la_grid.cv_results_['mean_test_score'].reshape((1,len(alpha)))\n",
    "for ind, i in enumerate(la_score):\n",
    "    plt.xscale('log')\n",
    "    plt.plot(alpha, la_score[ind], 'o-', color='b')\n",
    "    plt.xlabel('alpha')\n",
    "    plt.ylabel('Lasso validation score')\n",
    "    plt.title(\"Lasso Model\")\n",
    "    plt.fill_between(alpha,la_grid.cv_results_['mean_test_score']+\n",
    "                     la_grid.cv_results_['std_test_score'],\n",
    "                     la_grid.cv_results_['mean_test_score']-\n",
    "                     la_grid.cv_results_['std_test_score'], \n",
    "                     facecolor = 'b', alpha=0.1)\n",
    "plt.show()"
   ]
  },
  {
   "cell_type": "markdown",
   "metadata": {},
   "source": [
    "### Model 4: Elastic Net"
   ]
  },
  {
   "cell_type": "code",
   "execution_count": 34,
   "metadata": {},
   "outputs": [
    {
     "name": "stdout",
     "output_type": "stream",
     "text": [
      "ElasticNet cv score: 0.710193\n"
     ]
    }
   ],
   "source": [
    "print(\"ElasticNet cv score: {:.6f}\".format(\n",
    "    np.mean(cross_val_score(ElasticNet(tol = 0.1),X_train,y_train))))"
   ]
  },
  {
   "cell_type": "code",
   "execution_count": 35,
   "metadata": {},
   "outputs": [
    {
     "name": "stdout",
     "output_type": "stream",
     "text": [
      "ElasticNet best parameter: {'l1_ratio': 0.01, 'alpha': 0.021544346900318822}\n",
      "ElasticNet grid search best score: 0.760376\n"
     ]
    }
   ],
   "source": [
    "elparam_grid = {'alpha': np.logspace(-4, -1, 10),\n",
    "          'l1_ratio': [0.01, .1, .5, .9, .98, 1]}\n",
    "el_grid = GridSearchCV(ElasticNet(tol=0.2), elparam_grid)\n",
    "el_grid.fit(X_train, y_train)\n",
    "print(\"ElasticNet best parameter: {:}\".format(el_grid.best_params_))\n",
    "print(\"ElasticNet grid search best score: {:.6f}\".format(el_grid.best_score_))"
   ]
  },
  {
   "cell_type": "markdown",
   "metadata": {},
   "source": [
    "#### With Standard Scaler"
   ]
  },
  {
   "cell_type": "code",
   "execution_count": 36,
   "metadata": {},
   "outputs": [
    {
     "name": "stdout",
     "output_type": "stream",
     "text": [
      "Elastic Net cv score: 0.647016\n"
     ]
    }
   ],
   "source": [
    "EL = ElasticNet(tol = 0.1).fit(X_train_scaled, y_train)\n",
    "print(\"Elastic Net cv score: {:.6f}\".format(\n",
    "    np.mean(cross_val_score(EL, X_train_scaled, y_train))))"
   ]
  },
  {
   "cell_type": "code",
   "execution_count": 37,
   "metadata": {},
   "outputs": [
    {
     "name": "stdout",
     "output_type": "stream",
     "text": [
      "Elastic Net best parameter: {'elasticnet__l1_ratio': 0.5, 'elasticnet__alpha': 0.10000000000000001}\n",
      "Elastic Net grid search score: 0.773540\n"
     ]
    }
   ],
   "source": [
    "el_pipe = make_pipeline(StandardScaler(), ElasticNet(tol=0.2))\n",
    "elparam_grid1 = {'elasticnet__alpha': np.logspace(-4, -1, 10),\n",
    "          'elasticnet__l1_ratio': [0.01, .1, .5, .9, .98, 1]}\n",
    "el_grid1 = GridSearchCV(el_pipe, elparam_grid1).fit(X_train, y_train)\n",
    "print(\"Elastic Net best parameter: {}\".format(el_grid1.best_params_))\n",
    "print(\"Elastic Net grid search score: {:.6f}\".format(el_grid1.score(X_train, y_train)))"
   ]
  },
  {
   "cell_type": "code",
   "execution_count": 38,
   "metadata": {},
   "outputs": [
    {
     "name": "stdout",
     "output_type": "stream",
     "text": [
      "Elastic Net cv test score: 0.629263\n"
     ]
    }
   ],
   "source": [
    "print(\"Elastic Net cv test score: {:.6f}\".format(EL.score(X_test_scaled, y_test)))"
   ]
  },
  {
   "cell_type": "code",
   "execution_count": 39,
   "metadata": {},
   "outputs": [
    {
     "name": "stdout",
     "output_type": "stream",
     "text": [
      "Elastic Net test score: 0.683592\n"
     ]
    }
   ],
   "source": [
    "print(\"Elastic Net test score: {:.6f}\".format(el_grid1.score(X_test, y_test)))"
   ]
  },
  {
   "cell_type": "markdown",
   "metadata": {},
   "source": [
    "#### Visualization"
   ]
  },
  {
   "cell_type": "code",
   "execution_count": 40,
   "metadata": {},
   "outputs": [
    {
     "data": {
      "image/png": "[encoded data removed]",
      "text/plain": [
       "<matplotlib.figure.Figure at 0x1194859b0>"
      ]
     },
     "metadata": {},
     "output_type": "display_data"
    }
   ],
   "source": [
    "res = pd.pivot_table(pd.DataFrame(el_grid1.cv_results_),\n",
    "    values='mean_test_score', index='param_elasticnet__alpha', columns='param_elasticnet__l1_ratio')\n",
    "ax = sns.heatmap(res,annot=True,cmap='Blues')\n",
    "plt.show()"
   ]
  },
  {
   "cell_type": "markdown",
   "metadata": {
    "collapsed": true
   },
   "source": [
    "# Task 2: Feature Engineering"
   ]
  },
  {
   "cell_type": "code",
   "execution_count": 41,
   "metadata": {
    "collapsed": true
   },
   "outputs": [],
   "source": [
    "EL1 = ElasticNet(alpha = el_grid1.best_params_['elasticnet__alpha'],\n",
    "                 l1_ratio = el_grid1.best_params_['elasticnet__l1_ratio'],\n",
    "                 tol=0.2).fit(X_train_scaled, y_train) #Best Linear model"
   ]
  },
  {
   "cell_type": "code",
   "execution_count": 42,
   "metadata": {},
   "outputs": [
    {
     "name": "stdout",
     "output_type": "stream",
     "text": [
      "(3701, 300)\n"
     ]
    }
   ],
   "source": [
    "poly = PolynomialFeatures()\n",
    "X_train_subpoly = poly.fit_transform(X_train_scaled)\n",
    "print(X_train_subpoly.shape)"
   ]
  },
  {
   "cell_type": "code",
   "execution_count": 43,
   "metadata": {},
   "outputs": [
    {
     "data": {
      "text/plain": [
       "0.86365367596656073"
      ]
     },
     "execution_count": 43,
     "metadata": {},
     "output_type": "execute_result"
    }
   ],
   "source": [
    "EL1.fit(X_train_subpoly, y_train)\n",
    "EL1.score(X_train_subpoly,y_train)"
   ]
  },
  {
   "cell_type": "code",
   "execution_count": 44,
   "metadata": {},
   "outputs": [
    {
     "name": "stdout",
     "output_type": "stream",
     "text": [
      "(1220, 300)\n"
     ]
    }
   ],
   "source": [
    "X_test_subpoly = poly.fit_transform(X_test_scaled)\n",
    "print(X_test_subpoly.shape)"
   ]
  },
  {
   "cell_type": "code",
   "execution_count": 45,
   "metadata": {},
   "outputs": [
    {
     "data": {
      "text/plain": [
       "0.87905572002205024"
      ]
     },
     "execution_count": 45,
     "metadata": {},
     "output_type": "execute_result"
    }
   ],
   "source": [
    "EL1.fit(X_test_subpoly, y_test)\n",
    "EL1.score(X_test_subpoly,y_test)"
   ]
  },
  {
   "cell_type": "markdown",
   "metadata": {},
   "source": [
    "## Task 3: Any models"
   ]
  },
  {
   "cell_type": "markdown",
   "metadata": {},
   "source": [
    "trees, forests, gradient boosting, SVM\n",
    "\n",
    "tree easy to get overfitting(set some parameters, check ppt)\n",
    "\n",
    "Need to modify some preprocessing while training the model, do it seperatly. \n",
    "\n",
    "Do not train the model on X_test, y_test to avoid information leaking.\n"
   ]
  },
  {
   "cell_type": "markdown",
   "metadata": {},
   "source": [
    "## Task 4: Feature Selection"
   ]
  },
  {
   "cell_type": "markdown",
   "metadata": {},
   "source": [
    "### SelectKBest using Elastic Net (Warning: require modification)"
   ]
  },
  {
   "cell_type": "code",
   "execution_count": 105,
   "metadata": {},
   "outputs": [
    {
     "data": {
      "image/png": "[encoded data removed]",
      "text/plain": [
       "<matplotlib.figure.Figure at 0x11c052a20>"
      ]
     },
     "metadata": {},
     "output_type": "display_data"
    }
   ],
   "source": [
    "f_values, p_values = f_regression(X_train, y_train)\n",
    "plt.figure(1)\n",
    "plt.subplot(211)\n",
    "plt.plot(f_values, 'bo')\n",
    "plt.title('f_values')\n",
    "\n",
    "plt.subplot(212)\n",
    "plt.plot(p_values,'ro')\n",
    "plt.title('p_values')\n",
    "plt.show()"
   ]
  },
  {
   "cell_type": "code",
   "execution_count": 106,
   "metadata": {},
   "outputs": [
    {
     "name": "stdout",
     "output_type": "stream",
     "text": [
      "(3701, 20)\n",
      "(3701, 17)\n"
     ]
    }
   ],
   "source": [
    "select = SelectKBest(k=17, score_func=f_regression)\n",
    "select.fit(X_train, y_train)\n",
    "print(X_train.shape)\n",
    "X_train_sub = select.transform(X_train)\n",
    "print(X_train_sub.shape)"
   ]
  },
  {
   "cell_type": "code",
   "execution_count": 107,
   "metadata": {},
   "outputs": [
    {
     "data": {
      "text/plain": [
       "0.76416033413460782"
      ]
     },
     "execution_count": 107,
     "metadata": {},
     "output_type": "execute_result"
    }
   ],
   "source": [
    "EL1.fit(X_train_sub, y_train)\n",
    "EL1.score(X_train_sub,y_train)"
   ]
  },
  {
   "cell_type": "code",
   "execution_count": 108,
   "metadata": {},
   "outputs": [
    {
     "name": "stdout",
     "output_type": "stream",
     "text": [
      "(1220, 17)\n"
     ]
    },
    {
     "data": {
      "text/plain": [
       "0.72623831499522939"
      ]
     },
     "execution_count": 108,
     "metadata": {},
     "output_type": "execute_result"
    }
   ],
   "source": [
    "X_test_sub = select.transform(X_test)\n",
    "print(X_test_sub.shape)\n",
    "EL1.fit(X_test_sub, y_test)\n",
    "EL1.score(X_test_sub,y_test)"
   ]
  },
  {
   "cell_type": "markdown",
   "metadata": {},
   "source": [
    "### Feature Selection based on coefficient using Ridge"
   ]
  },
  {
   "cell_type": "code",
   "execution_count": 94,
   "metadata": {},
   "outputs": [],
   "source": [
    "RG1 = Ridge(alpha = rg_grid1.best_params_['ridge__alpha']).fit(X_train_scaled, y_train) # Ridge model"
   ]
  },
  {
   "cell_type": "code",
   "execution_count": 133,
   "metadata": {},
   "outputs": [
    {
     "data": {
      "text/plain": [
       "Index(['Index (Model Type Index)', 'Eng Displ', '# Cyl', '# Gears',\n",
       "       'Lockup Torque Converter', 'Max Ethanol % - Gasoline', '2Dr Pass Vol',\n",
       "       '2Dr Lugg Vol', '4Dr Pass Vol', 'Intake Valves Per Cyl',\n",
       "       'Exhaust Valves Per Cyl', 'Carline Class', 'Unique Label?',\n",
       "       'Cyl Deact?', 'Var Valve Timing?', 'Camless Valvetrain (Y or N)',\n",
       "       'Stop/Start System (Engine Management System) Code',\n",
       "       'Stop/Start System (Engine Management System)  Description',\n",
       "       '$ You Save over 5 years (amount saved in fuel costs over 5 years - on label) ',\n",
       "       '$ You Spend over 5 years (increased amount spent in fuel costs over 5 years - on label) '],\n",
       "      dtype='object')"
      ]
     },
     "execution_count": 133,
     "metadata": {},
     "output_type": "execute_result"
    }
   ],
   "source": [
    "X_train.columns"
   ]
  },
  {
   "cell_type": "code",
   "execution_count": 95,
   "metadata": {
    "collapsed": true
   },
   "outputs": [],
   "source": [
    "def select_coef(model,df): #select features with high absolute coefficient \n",
    "    dic = {}\n",
    "    for i in range(0,len(list(df))):\n",
    "        dic[list(df)[i]] = abs(model.coef_)[i]\n",
    "    feature_lst = sorted(((value,key) for (key,value) in dic.items()),reverse = True)\n",
    "    sel_feature =[]\n",
    "    for j in range(0,20):\n",
    "        sel_feature.append(feature_lst[j][1])\n",
    "    return sel_feature"
   ]
  },
  {
   "cell_type": "code",
   "execution_count": 96,
   "metadata": {
    "collapsed": true
   },
   "outputs": [],
   "source": [
    "def drop_features(lst, df):\n",
    "    '''\n",
    "    lst: list of 20 important selected features\n",
    "    '''\n",
    "    df_sub1 = df\n",
    "    for i in df_sub1.columns:\n",
    "        if i not in lst:\n",
    "                del df_sub1[i]\n",
    "    scaler = StandardScaler()\n",
    "    scaler.fit(df_sub1)\n",
    "    df_sub1_scaled = scaler.transform(df_sub1)\n",
    "    return df_sub1_scaled"
   ]
  },
  {
   "cell_type": "code",
   "execution_count": 97,
   "metadata": {},
   "outputs": [
    {
     "data": {
      "image/png": "[encoded data removed]",
      "text/plain": [
       "<matplotlib.figure.Figure at 0x11bd53cf8>"
      ]
     },
     "metadata": {},
     "output_type": "display_data"
    }
   ],
   "source": [
    "#cofficient plot\n",
    "plt.plot(abs(RG1.coef_), 's',label=\"Lasso\")\n",
    "plt.xlabel(\"Coefficient index\")\n",
    "plt.ylabel(\"Coefficient magnitude\")\n",
    "plt.legend()\n",
    "plt.plot([0,23],[0,0],'k-',lw=2)\n",
    "plt.show()"
   ]
  },
  {
   "cell_type": "code",
   "execution_count": 98,
   "metadata": {},
   "outputs": [
    {
     "name": "stdout",
     "output_type": "stream",
     "text": [
      "(3701, 20)\n",
      "(3701, 231)\n"
     ]
    }
   ],
   "source": [
    "feature_lst = select_coef(RG1,X_train) #select important features based on coefficient\n",
    "X_train_sub1_scaled = drop_features(feature_lst, X_train)\n",
    "poly = PolynomialFeatures()\n",
    "X_train_subpoly1 = poly.fit_transform(X_train_sub1_scaled)\n",
    "print(X_train_sub1_scaled.shape)\n",
    "print(X_train_subpoly1.shape)"
   ]
  },
  {
   "cell_type": "code",
   "execution_count": 99,
   "metadata": {},
   "outputs": [
    {
     "data": {
      "text/plain": [
       "0.77825112655907291"
      ]
     },
     "execution_count": 99,
     "metadata": {},
     "output_type": "execute_result"
    }
   ],
   "source": [
    "RG1.fit(X_train_sub1_scaled, y_train)\n",
    "RG1.score(X_train_sub1_scaled,y_train)"
   ]
  },
  {
   "cell_type": "code",
   "execution_count": 100,
   "metadata": {},
   "outputs": [
    {
     "data": {
      "text/plain": [
       "0.90335963359329496"
      ]
     },
     "execution_count": 100,
     "metadata": {},
     "output_type": "execute_result"
    }
   ],
   "source": [
    "RG1.fit(X_train_subpoly1, y_train)\n",
    "RG1.score(X_train_subpoly1,y_train)"
   ]
  },
  {
   "cell_type": "code",
   "execution_count": 102,
   "metadata": {},
   "outputs": [
    {
     "name": "stdout",
     "output_type": "stream",
     "text": [
      "(1220, 20)\n",
      "(1220, 231)\n"
     ]
    }
   ],
   "source": [
    "X_test_sub1_scaled= drop_features(feature_lst, X_test)\n",
    "poly = PolynomialFeatures()\n",
    "X_test_subpoly1 = poly.fit_transform(X_test_sub1_scaled)\n",
    "print(X_test_sub1_scaled.shape)\n",
    "print(X_test_subpoly1.shape)"
   ]
  },
  {
   "cell_type": "code",
   "execution_count": 103,
   "metadata": {},
   "outputs": [
    {
     "data": {
      "text/plain": [
       "0.7356572950396203"
      ]
     },
     "execution_count": 103,
     "metadata": {},
     "output_type": "execute_result"
    }
   ],
   "source": [
    "RG1.fit(X_test_sub1_scaled, y_test)\n",
    "RG1.score(X_test_sub1_scaled,y_test)"
   ]
  },
  {
   "cell_type": "code",
   "execution_count": 104,
   "metadata": {},
   "outputs": [
    {
     "data": {
      "text/plain": [
       "0.9171231712701422"
      ]
     },
     "execution_count": 104,
     "metadata": {},
     "output_type": "execute_result"
    }
   ],
   "source": [
    "RG1.fit(X_test_subpoly1, y_test)\n",
    "RG1.score(X_test_subpoly1,y_test) #highest test score with Ridge_scaled_best param"
   ]
  },
  {
   "cell_type": "markdown",
   "metadata": {},
   "source": [
    "### Using feature_selection.RFECV "
   ]
  },
  {
   "cell_type": "markdown",
   "metadata": {},
   "source": [
    "### Using feature_selection.RFE"
   ]
  },
  {
   "cell_type": "code",
   "execution_count": null,
   "metadata": {
    "collapsed": true
   },
   "outputs": [],
   "source": []
  }
 ],
 "metadata": {
  "kernelspec": {
   "display_name": "Python 3",
   "language": "python",
   "name": "python3"
  },
  "language_info": {
   "codemirror_mode": {
    "name": "ipython",
    "version": 3
   },
   "file_extension": ".py",
   "mimetype": "text/x-python",
   "name": "python",
   "nbconvert_exporter": "python",
   "pygments_lexer": "ipython3",
   "version": "3.5.4"
  }
 },
 "nbformat": 4,
 "nbformat_minor": 2
}
